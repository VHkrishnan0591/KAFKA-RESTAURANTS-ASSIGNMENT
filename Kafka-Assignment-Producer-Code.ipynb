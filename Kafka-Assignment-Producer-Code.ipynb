{
 "cells": [
  {
   "cell_type": "code",
   "execution_count": 1,
   "id": "9321bb3b",
   "metadata": {},
   "outputs": [],
   "source": [
    "# IMPORT STATEMENTS\n",
    "\n",
    "import argparse\n",
    "import confluent_kafka\n",
    "from uuid import uuid4\n",
    "from six.moves import input\n",
    "from confluent_kafka import Producer\n",
    "from confluent_kafka.serialization import StringSerializer, SerializationContext, MessageField\n",
    "from confluent_kafka.schema_registry import SchemaRegistryClient,Schema\n",
    "from confluent_kafka.schema_registry.json_schema import JSONSerializer\n",
    "#from confluent_kafka.schema_registry import *\n",
    "import pandas as pd\n",
    "from typing import List"
   ]
  },
  {
   "cell_type": "code",
   "execution_count": 2,
   "id": "45a4547c",
   "metadata": {},
   "outputs": [],
   "source": [
    "#CONFIGURATION DETAILS\n",
    "\n",
    "FILE_PATH = r\"C:\\Users\\HP\\Desktop\\HARIKRISHNAN_DETAILS\\DATA ENGINEERING\\KAFKA\\restaurant_orders.csv\"\n",
    "\n",
    "columns=['Order Number', 'Order Date', 'Item Name', 'Quantity', 'Product Price', 'Total products']\n",
    "\n",
    "API_KEY = 'LAMZT52YQ3KXOLCK'\n",
    "ENDPOINT_SCHEMA_URL  = 'https://psrc-nx65v.us-east-2.aws.confluent.cloud'\n",
    "API_SECRET_KEY = 'M9R2ELFp/CYUUc56U1H1vbsKyse1EtCNrR3qqGUpQ7F72gCRT62Lc5+jWpLid1oB'\n",
    "BOOTSTRAP_SERVER = 'pkc-921jm.us-east-2.aws.confluent.cloud:9092'\n",
    "SECURITY_PROTOCOL = 'SASL_SSL'\n",
    "SSL_MACHENISM = 'PLAIN'\n",
    "SCHEMA_REGISTRY_API_KEY = 'T6UDFASJDL3RKCWZ'\n",
    "SCHEMA_REGISTRY_API_SECRET = 'KQNwg+/HbCglNBys5AeK542yYObZCV7IbYj1w0Fxo3E1sOQd3UZ1pzaTAYUQ+/Db'"
   ]
  },
  {
   "cell_type": "code",
   "execution_count": 3,
   "id": "bd9a514f",
   "metadata": {},
   "outputs": [],
   "source": [
    "#CONFIGURATION FUNCTIONS\n",
    "\n",
    "def sasl_conf():\n",
    "\n",
    "    sasl_conf = {'sasl.mechanism': SSL_MACHENISM,\n",
    "                 # Set to SASL_SSL to enable TLS support.\n",
    "                #  'security.protocol': 'SASL_PLAINTEXT'}\n",
    "                'bootstrap.servers':BOOTSTRAP_SERVER,\n",
    "                'security.protocol': SECURITY_PROTOCOL,\n",
    "                'sasl.username': API_KEY,\n",
    "                'sasl.password': API_SECRET_KEY\n",
    "                }\n",
    "    return sasl_conf\n",
    "\n",
    "\n",
    "\n",
    "def schema_config():\n",
    "    return {'url':ENDPOINT_SCHEMA_URL,\n",
    "    \n",
    "    'basic.auth.user.info':f\"{SCHEMA_REGISTRY_API_KEY}:{SCHEMA_REGISTRY_API_SECRET}\"\n",
    "\n",
    "    }"
   ]
  },
  {
   "cell_type": "code",
   "execution_count": 4,
   "id": "f9d9ea64",
   "metadata": {},
   "outputs": [],
   "source": [
    "# FUNCTION FOR READING THE DATA FROM FILE AND TO DICT\n",
    "\n",
    "def get_restaurant_instance(file_path):\n",
    "    df=pd.read_csv(file_path)\n",
    "    restaurants =[]\n",
    "    for data in df.values:\n",
    "        restaurant= dict(zip(columns,data))\n",
    "        restaurants.append(restaurant)\n",
    "    return restaurants"
   ]
  },
  {
   "cell_type": "code",
   "execution_count": 5,
   "id": "ee4e221f",
   "metadata": {},
   "outputs": [],
   "source": [
    "# DELIVERY REPORT\n",
    "\n",
    "def delivery_report(err, msg):\n",
    "    \"\"\"\n",
    "    Reports the success or failure of a message delivery.\n",
    "    Args:\n",
    "        err (KafkaError): The error that occurred on None on success.\n",
    "        msg (Message): The message that was produced or failed.\n",
    "    \"\"\"\n",
    "\n",
    "    if err is not None:\n",
    "        print(\"Delivery failed for User record {}: {}\".format(msg.key(), err))\n",
    "        return\n",
    "    print('User record {} successfully produced to {} [{}] at offset {}'.format(\n",
    "        msg.key(), msg.topic(), msg.partition(), msg.offset()))"
   ]
  },
  {
   "cell_type": "code",
   "execution_count": 6,
   "id": "dfc97118",
   "metadata": {},
   "outputs": [],
   "source": [
    "def main(topic):\n",
    "    schema_str = \"\"\"\n",
    "    {\n",
    "  \"$id\": \"http://example.com/myURI.schema.json\",\n",
    "  \"$schema\": \"http://json-schema.org/draft-07/schema#\",\n",
    "  \"additionalProperties\": false,\n",
    "  \"description\": \"Sample schema to help you get started.\",\n",
    "  \"properties\": {\n",
    "    \"Order Number\": {\n",
    "      \"description\": \"The type(v) type is used.\",\n",
    "      \"type\": \"number\"\n",
    "    },\n",
    "    \"Order Date\": {\n",
    "      \"description\": \"The type(v) type is used.\",\n",
    "      \"type\": \"string\"\n",
    "    },\n",
    "    \"Item Name\": {\n",
    "      \"description\": \"The type(v) type is used.\",\n",
    "      \"type\": \"string\"\n",
    "    },\n",
    "    \"Quantity\": {\n",
    "      \"description\": \"The type(v) type is used.\",\n",
    "      \"type\": \"number\"\n",
    "    },\n",
    "    \"Product Price\": {\n",
    "      \"description\": \"The type(v) type is used.\",\n",
    "      \"type\": \"number\"\n",
    "    },\n",
    "    \"Total products\": {\n",
    "      \"description\": \"The type(v) type is used.\",\n",
    "      \"type\": \"number\"\n",
    "    }\n",
    "  },\n",
    "  \"title\": \"SampleRecord\",\n",
    "  \"type\": \"object\"\n",
    "}\n",
    "    \"\"\"\n",
    "    schema_registry_conf = schema_config()\n",
    "    schema_registry_client = SchemaRegistryClient(schema_registry_conf)\n",
    "    schema = Schema(schema_str, 'JSON')\n",
    "    print(schema_registry_client.register_schema('restaurants-value', schema, normalize_schemas=False))\n",
    "    latest_version = schema_registry_client.get_latest_version('restaurants-value')\n",
    "    string_serializer = StringSerializer()\n",
    "    json_serializer = JSONSerializer(latest_version.schema, schema_registry_client)\n",
    "\n",
    "    producer = Producer(sasl_conf())\n",
    "\n",
    "    print(\"Producing user records to topic {}. ^C to exit.\".format(\"restaurants-value-data\"))\n",
    "\n",
    "    producer.poll(0.0)\n",
    "\n",
    "    try:\n",
    "        restaurants = get_restaurant_instance(file_path=FILE_PATH)\n",
    "        for restaurant in restaurants:\n",
    "\n",
    "#             print(case)\n",
    "            producer.produce(topic=topic,\n",
    "                            key=string_serializer(str(uuid4())),\n",
    "                            value=json_serializer(restaurant, SerializationContext(topic, MessageField.VALUE)),\n",
    "                            on_delivery=delivery_report)\n",
    "#             break\n",
    "    except KeyboardInterrupt:\n",
    "        pass\n",
    "    except ValueError:\n",
    "        print(\"Invalid input, discarding record...\")\n",
    "        pass\n",
    "\n",
    "    print(\"\\nFlushing records...\")\n",
    "    producer.flush()"
   ]
  },
  {
   "cell_type": "code",
   "execution_count": 7,
   "id": "57182c82",
   "metadata": {},
   "outputs": [
    {
     "name": "stdout",
     "output_type": "stream",
     "text": [
      "100011\n",
      "Producing user records to topic restaurants-value-data. ^C to exit.\n"
     ]
    },
    {
     "name": "stderr",
     "output_type": "stream",
     "text": [
      "IOPub data rate exceeded.\n",
      "The notebook server will temporarily stop sending output\n",
      "to the client in order to avoid crashing it.\n",
      "To change this limit, set the config variable\n",
      "`--NotebookApp.iopub_data_rate_limit`.\n",
      "\n",
      "Current values:\n",
      "NotebookApp.iopub_data_rate_limit=1000000.0 (bytes/sec)\n",
      "NotebookApp.rate_limit_window=3.0 (secs)\n",
      "\n"
     ]
    }
   ],
   "source": [
    "main(\"restaurants\")"
   ]
  },
  {
   "cell_type": "code",
   "execution_count": null,
   "id": "b0be6b19",
   "metadata": {},
   "outputs": [],
   "source": []
  }
 ],
 "metadata": {
  "kernelspec": {
   "display_name": "Python 3 (ipykernel)",
   "language": "python",
   "name": "python3"
  },
  "language_info": {
   "codemirror_mode": {
    "name": "ipython",
    "version": 3
   },
   "file_extension": ".py",
   "mimetype": "text/x-python",
   "name": "python",
   "nbconvert_exporter": "python",
   "pygments_lexer": "ipython3",
   "version": "3.9.13"
  }
 },
 "nbformat": 4,
 "nbformat_minor": 5
}
